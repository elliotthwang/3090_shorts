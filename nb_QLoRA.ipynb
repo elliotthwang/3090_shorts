{
 "cells": [
  {
   "cell_type": "code",
   "execution_count": null,
   "id": "bc2c5e97-4e1e-4aa4-ac65-670efefccdfa",
   "metadata": {},
   "outputs": [],
   "source": [
    "!pip install -U -q bitsandbytes wandb git+https://github.com/huggingface/transformers sentencepiece accelerate datasets peft  trl huggingface_hub flash-attn"
   ]
  },
  {
   "cell_type": "code",
   "execution_count": null,
   "id": "62f06bbf-381a-4f5f-8d61-0b1b97012a4b",
   "metadata": {},
   "outputs": [],
   "source": [
    "from wandb import login\n",
    "login(key=\"XXX\")"
   ]
  },
  {
   "cell_type": "code",
   "execution_count": null,
   "id": "acf09d98-666d-4b5a-b286-f2cba5177c4f",
   "metadata": {},
   "outputs": [],
   "source": [
    "from huggingface_hub import login\n",
    "login(token=\"XXX\")"
   ]
  },
  {
   "cell_type": "code",
   "execution_count": null,
   "id": "03bb80b9-2640-4464-a4e1-3e86728a50b5",
   "metadata": {},
   "outputs": [],
   "source": [
    "from transformers import AutoTokenizer, AutoModelForCausalLM, TrainingArguments, BitsAndBytesConfig, set_seed\n",
    "from peft import LoraConfig\n",
    "from trl import SFTTrainer, DataCollatorForCompletionOnlyLM, setup_chat_format\n",
    "from datasets import load_dataset\n",
    "from accelerate import Accelerator\n",
    "import torch\n",
    "\n",
    "modelpath = \"meta-llama/Llama-2-7b-hf\"\n",
    "model = AutoModelForCausalLM.from_pretrained(\n",
    "    modelpath,    \n",
    "    quantization_config = BitsAndBytesConfig(\n",
    "        load_in_4bit = True,\n",
    "        bnb_4bit_compute_dtype = torch.bfloat16,\n",
    "        bnb_4bit_quant_type = \"nf4\",\n",
    "    ),\n",
    "    attn_implementation = \"flash_attention_2\",         \n",
    ")\n",
    "tokenizer = AutoTokenizer.from_pretrained(modelpath, use_fast = False)\n",
    "\n",
    "model, tokenizer = setup_chat_format(model, tokenizer)\n",
    "if tokenizer.pad_token in [None, tokenizer.eos_token]: \n",
    "    tokenizer.pad_token = tokenizer.unk_token\n",
    "\n",
    "dataset = load_dataset(\"g-ronimo/oasst2_top4k_en\")\n",
    "\n",
    "training_arguments = TrainingArguments(\n",
    "    output_dir = \"out\",\n",
    "    evaluation_strategy = \"steps\",\n",
    "    label_names = [\"labels\"],\n",
    "    per_device_train_batch_size = 16,\n",
    "    gradient_accumulation_steps = 1,\n",
    "    save_steps = 250,\n",
    "    eval_steps = 250,\n",
    "    logging_steps = 1, \n",
    "    learning_rate = 0.0002,\n",
    "    lr_scheduler_type = \"constant\",\n",
    "    optim = 'paged_adamw_32bit',\n",
    "    bf16 = True,\n",
    "    gradient_checkpointing = True,\n",
    "    group_by_length = True,\n",
    ")\n",
    "\n",
    "trainer = SFTTrainer(\n",
    "    model = model,\n",
    "    tokenizer = tokenizer,\n",
    "    train_dataset = dataset[\"train\"],\n",
    "    eval_dataset = dataset['test'],\n",
    "    data_collator = DataCollatorForCompletionOnlyLM(\n",
    "        instruction_template = \"<|im_start|>user\", \n",
    "        response_template = \"<|im_start|>assistant\", \n",
    "        tokenizer = tokenizer, \n",
    "        mlm = False),\n",
    "    max_seq_length = 512,\n",
    "    peft_config = LoraConfig(target_modules = \"all-linear\", modules_to_save = [\"lm_head\", \"embed_tokens\"]),\n",
    "    args = training_arguments,\n",
    ")\n",
    "\n",
    "trainer.train()"
   ]
  }
 ],
 "metadata": {
  "kernelspec": {
   "display_name": "Python 3 (ipykernel)",
   "language": "python",
   "name": "python3"
  },
  "language_info": {
   "codemirror_mode": {
    "name": "ipython",
    "version": 3
   },
   "file_extension": ".py",
   "mimetype": "text/x-python",
   "name": "python",
   "nbconvert_exporter": "python",
   "pygments_lexer": "ipython3",
   "version": "3.10.12"
  }
 },
 "nbformat": 4,
 "nbformat_minor": 5
}
